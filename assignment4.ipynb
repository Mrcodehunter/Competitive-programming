{
  "nbformat": 4,
  "nbformat_minor": 0,
  "metadata": {
    "colab": {
      "name": "assignment4",
      "provenance": [],
      "collapsed_sections": [],
      "authorship_tag": "ABX9TyNxCqWz+0p8+una9fqXUdwF",
      "include_colab_link": true
    },
    "kernelspec": {
      "name": "python3",
      "display_name": "Python 3"
    }
  },
  "cells": [
    {
      "cell_type": "markdown",
      "metadata": {
        "id": "view-in-github",
        "colab_type": "text"
      },
      "source": [
        "<a href=\"https://colab.research.google.com/github/Mrcodehunter/Competitive-programming/blob/master/assignment4.ipynb\" target=\"_parent\"><img src=\"https://colab.research.google.com/assets/colab-badge.svg\" alt=\"Open In Colab\"/></a>"
      ]
    },
    {
      "cell_type": "code",
      "metadata": {
        "id": "j04kqP4kqsPD"
      },
      "source": [
        "import numpy as np\n",
        "import pandas as pd\n",
        "import matplotlib.pyplot as plt"
      ],
      "execution_count": 1,
      "outputs": []
    },
    {
      "cell_type": "code",
      "metadata": {
        "id": "jC4a1GdEEJpT",
        "colab": {
          "base_uri": "https://localhost:8080/"
        },
        "outputId": "93a9b228-20b5-479d-e430-7521f773e1a8"
      },
      "source": [
        "from google.colab import drive\n",
        "drive.mount('/content/drive')"
      ],
      "execution_count": 2,
      "outputs": [
        {
          "output_type": "stream",
          "text": [
            "Mounted at /content/drive\n"
          ],
          "name": "stdout"
        }
      ]
    },
    {
      "cell_type": "code",
      "metadata": {
        "id": "rwlBYu3euJ-1",
        "colab": {
          "base_uri": "https://localhost:8080/"
        },
        "outputId": "884201f4-b9cf-4244-9674-43b980318209"
      },
      "source": [
        "filename=input(\"Enter file name: \");"
      ],
      "execution_count": 3,
      "outputs": [
        {
          "output_type": "stream",
          "text": [
            "Enter file name: drive/My Drive/Colab Notebooks/A4Part1TestData.txt\n"
          ],
          "name": "stdout"
        }
      ]
    },
    {
      "cell_type": "code",
      "metadata": {
        "id": "Q1qbJksSuoDp"
      },
      "source": [
        "file=open(filename)\n",
        "lines=file.readlines()\n",
        "l=len(lines)"
      ],
      "execution_count": 4,
      "outputs": []
    },
    {
      "cell_type": "code",
      "metadata": {
        "id": "jZRsFn3JxIvz"
      },
      "source": [
        "array=[]\n",
        "for line in lines:\n",
        "  x=line.split(\",\")\n",
        "  y=x[1].split(\"\\n\")\n",
        "  y=float(y[0])\n",
        "  x=float(x[0])\n",
        "  array.append([x,y])"
      ],
      "execution_count": 5,
      "outputs": []
    },
    {
      "cell_type": "code",
      "metadata": {
        "id": "1Jh01VWX1T9z"
      },
      "source": [
        "xsum=0\n",
        "ysum=0\n",
        "xvalues=[]\n",
        "yvalues=[]\n",
        "for x in array:\n",
        "  xsum=xsum+x[0]\n",
        "  ysum=ysum+x[1]\n",
        "  xvalues.append(x[0])\n",
        "  yvalues.append(x[1])\n",
        "xav=xsum/l\n",
        "yav=ysum/l"
      ],
      "execution_count": 6,
      "outputs": []
    },
    {
      "cell_type": "code",
      "metadata": {
        "id": "M0OpI8nK2XjX",
        "colab": {
          "base_uri": "https://localhost:8080/"
        },
        "outputId": "62191c94-d08f-4636-fb08-a8c4b6a02213"
      },
      "source": [
        "#creating line\n",
        "num=0\n",
        "den=0\n",
        "for x in array:\n",
        "  num=num+(x[0]-xav)*(x[1]-yav)\n",
        "  den=den+(x[0]-xav)*(x[0]-xav)\n",
        "\n",
        "slope=num/den\n",
        "ycut=yav-slope*xav\n",
        "\n",
        "equation=\"Y = \"+str(slope)+\"X \"\n",
        "if ycut > 0.0 :\n",
        "  equation=equation+\"+ \"\n",
        "else :\n",
        "  equation=equation+\"- \"\n",
        "equation=equation+str(abs(ycut))\n",
        "print(equation)"
      ],
      "execution_count": 20,
      "outputs": [
        {
          "output_type": "stream",
          "text": [
            "Y = 1.1870380147835267X + 3.40740056318198\n"
          ],
          "name": "stdout"
        }
      ]
    },
    {
      "cell_type": "code",
      "metadata": {
        "id": "1YbsCpHq7MVs",
        "colab": {
          "base_uri": "https://localhost:8080/",
          "height": 282
        },
        "outputId": "c159a870-3f9b-4404-82ff-60097a918e33"
      },
      "source": [
        "plt.scatter(xvalues,yvalues)"
      ],
      "execution_count": 9,
      "outputs": [
        {
          "output_type": "execute_result",
          "data": {
            "text/plain": [
              "<matplotlib.collections.PathCollection at 0x7f8b861304a8>"
            ]
          },
          "metadata": {
            "tags": []
          },
          "execution_count": 9
        },
        {
          "output_type": "display_data",
          "data": {
            "image/png": "[encoded data removed]",
            "text/plain": [
              "<Figure size 432x288 with 1 Axes>"
            ]
          },
          "metadata": {
            "tags": [],
            "needs_background": "light"
          }
        }
      ]
    },
    {
      "cell_type": "code",
      "metadata": {
        "id": "kw4WkKzN7yo4",
        "colab": {
          "base_uri": "https://localhost:8080/",
          "height": 282
        },
        "outputId": "835f31eb-4189-4416-abc1-ba6bdff0f797"
      },
      "source": [
        "x1=100000000.00\n",
        "x2=-100000000.00\n",
        "for x in xvalues:\n",
        "  x1=min(x1,x)\n",
        "  x2=max(x2,x)\n",
        "y1=slope*x1+ycut\n",
        "y2=slope*x2+ycut\n",
        "plt.plot([x1,x2],[y1,y2])"
      ],
      "execution_count": 10,
      "outputs": [
        {
          "output_type": "execute_result",
          "data": {
            "text/plain": [
              "[<matplotlib.lines.Line2D at 0x7f8b860bcb70>]"
            ]
          },
          "metadata": {
            "tags": []
          },
          "execution_count": 10
        },
        {
          "output_type": "display_data",
          "data": {
            "image/png": "[encoded data removed]",
            "text/plain": [
              "<Figure size 432x288 with 1 Axes>"
            ]
          },
          "metadata": {
            "tags": [],
            "needs_background": "light"
          }
        }
      ]
    },
    {
      "cell_type": "code",
      "metadata": {
        "id": "mWeeMQ-wn1wR"
      },
      "source": [
        "# 2nd PArt\n",
        "COST_PER_KM = 1400000\n",
        "FUNDING_AVAILABLE = 40000000"
      ],
      "execution_count": 11,
      "outputs": []
    },
    {
      "cell_type": "code",
      "metadata": {
        "id": "atU4g_s5Hj_L"
      },
      "source": [
        "class Street:\n",
        "  def __init__(self, name, length,carperday,condition):\n",
        "    self.name = name\n",
        "    self.length = length\n",
        "    self.carperday= carperday\n",
        "    self.condition= condition\n",
        "  def printobject(self):\n",
        "    print(\"*************\")\n",
        "    print(self.name)\n",
        "    print(self.length)\n",
        "    print(self.carperday)\n",
        "    print(self.condition)\n",
        "    print(\"**************\")\n",
        "  def compare(self,obj):\n",
        "    if self.condition == obj.condition:\n",
        "      return (self.carperday >= obj.carperday)\n",
        "    else :\n",
        "      if self.condition == \"poor\":\n",
        "        return True\n",
        "      if obj.condition == \"poor\":\n",
        "        return False\n",
        "      return (self.condition == \"fair\")\n",
        "  def getCost(self):\n",
        "    return (COST_PER_KM*self.length)"
      ],
      "execution_count": 12,
      "outputs": []
    },
    {
      "cell_type": "code",
      "metadata": {
        "id": "7Lqkl2wBlrZU"
      },
      "source": [
        "def sortlist(lst):\n",
        "  ln = len(lst)\n",
        "  for i in range(ln):\n",
        "    for j in range(i+1,ln):\n",
        "      if lst[j].compare(lst[i]):\n",
        "        a=lst[i]\n",
        "        lst[i]=lst[j]\n",
        "        lst[j]=a\n",
        "  return lst"
      ],
      "execution_count": 13,
      "outputs": []
    },
    {
      "cell_type": "code",
      "metadata": {
        "id": "Y899saToIroi",
        "colab": {
          "base_uri": "https://localhost:8080/"
        },
        "outputId": "05a5bbe7-935b-473e-fb90-98ac65d48d53"
      },
      "source": [
        "filename=input(\"Please enter the name of the road file > \")\n",
        "file=open(filename)"
      ],
      "execution_count": 14,
      "outputs": [
        {
          "output_type": "stream",
          "text": [
            "Please enter the name of the road file > drive/My Drive/Colab Notebooks/A4Part2RoadData.txt\n"
          ],
          "name": "stdout"
        }
      ]
    },
    {
      "cell_type": "code",
      "metadata": {
        "id": "FveDVxmALmNU"
      },
      "source": [
        "lst=[]\n",
        "lines=file.readlines()\n",
        "for line in lines:\n",
        "  x=line.split(\",\")\n",
        "  con=x[3].split(\"\\n\")\n",
        "  obj=Street(str(x[0]),float(x[1]),float(x[2]),str(con[0]))\n",
        "  lst.append(obj)"
      ],
      "execution_count": 15,
      "outputs": []
    },
    {
      "cell_type": "code",
      "metadata": {
        "id": "jmgFUwYNr3ra"
      },
      "source": [
        "lst=sortlist(lst)"
      ],
      "execution_count": 16,
      "outputs": []
    },
    {
      "cell_type": "code",
      "metadata": {
        "id": "w7KoVqn_4KM1",
        "colab": {
          "base_uri": "https://localhost:8080/"
        },
        "outputId": "1a3265d6-91ec-4f5f-f6e0-64b7aa9af00e"
      },
      "source": [
        "print(\"The streets, in decreasing order of priority, are:\")\n",
        "print(\"--------------------------------------------------\")\n",
        "#Magpie is 2.60 km long, sees 4900 cars per day, and is in poor condition.\n",
        "for x in lst:\n",
        "  print(str(x.name)+\" is \"+str(x.length)+\" km long, sees \"+str(x.carperday)+\" cars per day, ans is in \"+str(x.condition)+\" condition.\")"
      ],
      "execution_count": 17,
      "outputs": [
        {
          "output_type": "stream",
          "text": [
            "The streets, in decreasing order of priority, are:\n",
            "--------------------------------------------------\n",
            "Magpie is 2.6 km long, sees 4900.0 cars per day, ans is in poor condition.\n",
            "Elm is 4.1 km long, sees 3000.0 cars per day, ans is in poor condition.\n",
            "Ash is 7.2 km long, sees 1400.0 cars per day, ans is in poor condition.\n",
            "Cottonwood is 3.9 km long, sees 5800.0 cars per day, ans is in fair condition.\n",
            "Raven is 8.8 km long, sees 4600.0 cars per day, ans is in fair condition.\n",
            "Willow is 8.2 km long, sees 3600.0 cars per day, ans is in fair condition.\n",
            "Robin is 9.0 km long, sees 2800.0 cars per day, ans is in fair condition.\n",
            "Sparrow is 3.7 km long, sees 1800.0 cars per day, ans is in fair condition.\n",
            "Pine is 1.2 km long, sees 300.0 cars per day, ans is in fair condition.\n",
            "Oak is 5.6 km long, sees 200.0 cars per day, ans is in fair condition.\n",
            "Owl is 5.5 km long, sees 4700.0 cars per day, ans is in good condition.\n",
            "Maple is 6.5 km long, sees 2100.0 cars per day, ans is in good condition.\n",
            "Spruce is 0.6 km long, sees 1200.0 cars per day, ans is in good condition.\n",
            "Hawk is 4.0 km long, sees 700.0 cars per day, ans is in good condition.\n"
          ],
          "name": "stdout"
        }
      ]
    },
    {
      "cell_type": "code",
      "metadata": {
        "id": "Mci83jh95PjQ",
        "colab": {
          "base_uri": "https://localhost:8080/"
        },
        "outputId": "c4c09bca-63a6-4d91-f3ed-cf43c987e049"
      },
      "source": [
        "print(\"The streets that will be repaired are:\")\n",
        "print(\"--------------------------------------\")\n",
        "#Magpie will be fixed at a cost of $3640000\n",
        "for x in lst:\n",
        "  if x.getCost() <= FUNDING_AVAILABLE:\n",
        "    print(str(x.name)+\" will be fixed at a cost of $\"+str(x.getCost()))\n",
        "    FUNDING_AVAILABLE=FUNDING_AVAILABLE-x.getCost()"
      ],
      "execution_count": 18,
      "outputs": [
        {
          "output_type": "stream",
          "text": [
            "The streets that will be repaired are:\n",
            "--------------------------------------\n",
            "Magpie will be fixed at a cost of $3640000.0\n",
            "Elm will be fixed at a cost of $5739999.999999999\n",
            "Ash will be fixed at a cost of $10080000.0\n",
            "Cottonwood will be fixed at a cost of $5460000.0\n",
            "Raven will be fixed at a cost of $12320000.000000002\n",
            "Pine will be fixed at a cost of $1680000.0\n",
            "Spruce will be fixed at a cost of $840000.0\n"
          ],
          "name": "stdout"
        }
      ]
    },
    {
      "cell_type": "code",
      "metadata": {
        "id": "-FtRyonh7Kv7",
        "colab": {
          "base_uri": "https://localhost:8080/"
        },
        "outputId": "8688748a-d480-4ed2-93e5-0bcbc5a06f66"
      },
      "source": [
        "print(\"The amount left over is $\"+str(FUNDING_AVAILABLE))"
      ],
      "execution_count": 19,
      "outputs": [
        {
          "output_type": "stream",
          "text": [
            "The amount left over is $239999.99999999814\n"
          ],
          "name": "stdout"
        }
      ]
    }
  ]
}